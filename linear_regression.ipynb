{
      "metadata": {
        "id": "aurtDLutuv3k",
        "colab_type": "code",
        "colab": {}
      },
      "cell_type": "code",
      "source": [
        "import numpy as np\n",
        "import pandas as pd\n",
        "\n",
        "training_set = pd.read_excel(\"Data_Train.xlsx\")\n",
        "test_set = pd.read_excel(\"Data_Test.xlsx\")"
      ],
      "execution_count": 0,
      "outputs": []
    },

%matplotlib inline
import pandas as pd
import sklearn.linear_model as lm
from sklearn import metrics
import numpy as np
import seaborn as sns

# Обучающая выборка
data = pd.read_csv('https://github.com/albahnsen/PracticalMachineLearningClass/raw/master/datasets/dataTrain_carListings.zip')
data.head()

sns.pairplot(data, x_vars=['Year','Mileage'], y_vars='Price', height=7, aspect=0.7)

#Записываем массив Prices в  массив эндогенных переменных
y = data.iloc[:,0]
#Записываем массивы Year, Mileage в  массивы экзогенных переменных
x = data.iloc[:,[1,2]]

# создаем пустую модель
skm = lm.LinearRegression()
# запускаем расчет параметров для указанных данных
skm.fit(x, y)
# и выведем параметры рассчитанной модели
print(skm.intercept_, skm.coef_)

# Тестовая выборка
data_test = pd.read_csv('https://github.com/albahnsen/PracticalMachineLearningClass/raw/master/datasets/dataTest_carListings.zip', index_col=0)

x_test_year = data_test.iloc[:,0]
x_test_mileage = data_test.iloc[:,1]

# Рассчитываем прогнозную стоимость для тестовой выборки
y_pred = round(pd.Series.to_frame(skm.intercept_ + skm.coef_[0] * x_test_year + skm.coef_[1] * x_test_mileage, name="Price"),2)

#Итоговая таблица
data_test_new = pd.merge(y_pred, data_test, on='ID')
data_test_new.head()

sns.pairplot(data_test_new, x_vars=['Year','Mileage'], y_vars='Price', height=7, aspect=0.7)
accuracy = skm.score(data_test_new.iloc[:,[1,2]],data_test_new.iloc[:,0])
print('R^2:',accuracy*100,'%')

# Доля отрицательных прогнозных значений
data_test_new_minus = data_test_new.loc[data_test_new['Price'] < 0]
print('Доля строк с отрицательными ценами:', data_test_new_minus.Price.count()/data_test_new.Price.count()*100, '%')

# Удаление отрицательных цен из прогнозных значений
data_test_new_plus = data_test_new.loc[data_test_new['Price'] > 0]
data_test_new_plus.head()

sns.pairplot(data_test_new_plus, x_vars=['Year','Mileage'], y_vars='Price', height=7, aspect=0.7)
accuracy2 = skm.score(data_test_new_plus.iloc[:,[1,2]],data_test_new_plus.iloc[:,0])
print(accuracy2*100,'%')
