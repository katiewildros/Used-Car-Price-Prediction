{
  "nbformat": 4,
  "nbformat_minor": 0,
  "metadata": {
    "colab": {
      "name": "Predict_Restaurant_Food_Cost_Final.ipynb",
      "version": "0.3.2",
      "provenance": [],
      "collapsed_sections": []
    },
    "kernelspec": {
      "name": "python3",
      "display_name": "Python 3"
    },
    "accelerator": "GPU"
  },
  "cells": [
    {
      "metadata": {
        "id": "KH0KhRX3hO4a",
        "colab_type": "text"
      },
      "cell_type": "markdown",
      "source": [
        "# Predicting Restaurant Food Cost Hackathon by MachineHack\n",
        "\n",
        "This is one of many approaches to solving [\"Predicting Restaurant Food Cost Hackathon](https://https://www.machinehack.com/course/predicting-restaurant-food-cost-hackathon/), the latest hackathon by [Machinehack](https://https://www.machinehack.com/course/predicting-restaurant-food-cost-hackathon/).\n",
        "\n",
        "This tutorial is for all Data Science enthusiasts who have just begun the journey. Use this tutorial to learn and submit your predictions at MachineHack. The winner will get a free pass to the Machinecon 2019 event.\n",
        "\n",
        "Check out the details here : https://www.machinehack.com/course/predicting-restaurant-food-cost-hackathon/"
      ]
    },
    {
      "metadata": {
        "id": "uJ8CZAQukbmD",
        "colab_type": "text"
      },
      "cell_type": "markdown",
      "source": [
        "##Importing the Data Sets"
      ]
    },
    {
      "metadata": {
        "id": "aurtDLutuv3k",
        "colab_type": "code",
        "colab": {}
      },
      "cell_type": "code",
      "source": [
        "import numpy as np\n",
        "import pandas as pd\n",
        "\n",
        "training_set = pd.read_excel(\"Data_Train.xlsx\")\n",
        "test_set = pd.read_excel(\"Data_Test.xlsx\")"
      ],
      "execution_count": 0,
      "outputs": []
    }
  }
